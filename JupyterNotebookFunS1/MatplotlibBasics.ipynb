{
 "cells": [
  {
   "cell_type": "markdown",
   "metadata": {},
   "source": [
    "# Data Visualization\n",
    "EDA: exploratory data analysis\n",
    "* Compute summary stats\n",
    "* Generate data visualizations\n",
    "\n",
    "## Goals of Data Visualization\n",
    "1. Clearly and accurately represent data\n",
    "1. Be creative, with the goal of increasing readability\n",
    "1. Label the units and points of interest\n",
    "\n",
    "## Some Jargon\n",
    "Chart: 2D visualization\n",
    "* Plot: chart of data points (e.g. scatter plot)\n",
    "* Graph: chart of math function (e.g. sine curve)\n",
    "\n",
    "## Ways to use Matplotlib\n",
    "1. Use the pyplot module: like a state machine where there is a \"current figure\"\n",
    "1. Use the OOP interface: maintain object references\n",
    "1. Mix of the two"
   ]
  },
  {
   "cell_type": "markdown",
   "metadata": {},
   "source": [
    "## Line Charts"
   ]
  },
  {
   "cell_type": "code",
   "execution_count": 1,
   "metadata": {},
   "outputs": [
    {
     "data": {
      "text/plain": [
       "<Figure size 640x480 with 1 Axes>"
      ]
     },
     "metadata": {},
     "output_type": "display_data"
    }
   ],
   "source": [
    "import matplotlib.pyplot as plt\n",
    "\n",
    "def line_chart_example(x, y, y3):\n",
    "    plt.figure() # new figure\n",
    "    plt.plot(x, y, label=\"$y=x^2$\")\n",
    "    # task: add another line to our figure for y = x^3\n",
    "    plt.plot(x, y3, c=\"green\", label=\"$y=x^3$\")\n",
    "    plt.legend()\n",
    "    \n",
    "    # add some labels\n",
    "    plt.title(\"Our First Plot in 322 :)\")\n",
    "    plt.xlabel(\"X Units\")\n",
    "    plt.ylabel(\"Y Units\")\n",
    "    plt.grid(True)\n",
    "    \n",
    "    # customize the x tick labels\n",
    "    xtick_labels = [\"zero\", \"one\", \"This is the third value in this series of values\", \"three\", \"four\"]\n",
    "    plt.xticks(x, xtick_labels, rotation=45, horizontalalignment=\"right\") # locations, labels\n",
    "    \n",
    "    # show the plot\n",
    "    plt.tight_layout()\n",
    "    plt.savefig(\"line_chart.pdf\")\n",
    "    plt.show()\n",
    "    \n",
    "# we need data\n",
    "x = list(range(5))\n",
    "y = [value ** 2 for value in x]\n",
    "y3 = [value ** 3 for value in x]\n",
    "\n",
    "line_chart_example(x, y, y3)"
   ]
  },
  {
   "cell_type": "markdown",
   "metadata": {},
   "source": [
    "## Bar Charts"
   ]
  },
  {
   "cell_type": "code",
   "execution_count": 2,
   "metadata": {},
   "outputs": [
    {
     "data": {
      "image/png": "[encoded data removed]",
      "text/plain": [
       "<Figure size 432x288 with 1 Axes>"
      ]
     },
     "metadata": {
      "needs_background": "light"
     },
     "output_type": "display_data"
    }
   ],
   "source": [
    "def bar_chart_example(x, y):\n",
    "    plt.figure()\n",
    "    plt.bar(x, y)\n",
    "    plt.show()\n",
    "    \n",
    "bar_chart_example(x, y)"
   ]
  },
  {
   "cell_type": "markdown",
   "metadata": {},
   "source": [
    "## Pie Charts"
   ]
  },
  {
   "cell_type": "code",
   "execution_count": 3,
   "metadata": {},
   "outputs": [
    {
     "data": {
      "image/png": "[encoded data removed]",
      "text/plain": [
       "<Figure size 432x288 with 1 Axes>"
      ]
     },
     "metadata": {},
     "output_type": "display_data"
    }
   ],
   "source": [
    "def pie_chart_example(x, y):\n",
    "    plt.figure()\n",
    "    plt.pie(y, labels=x, autopct=\"%1.1f%%\")\n",
    "    plt.show()\n",
    "    \n",
    "pie_chart_example(x, y)"
   ]
  },
  {
   "cell_type": "markdown",
   "metadata": {},
   "source": [
    "## Task\n",
    "Create a bar and a pie chart for the model year counts we computed with `get_frequencies()`"
   ]
  },
  {
   "cell_type": "code",
   "execution_count": 4,
   "metadata": {},
   "outputs": [
    {
     "data": {
      "text/plain": [
       "<module 'utils' from '/Users/sprint/Desktop/CPSC322/U3-Data-Analysis/JupyterNotebookFunS1/utils.py'>"
      ]
     },
     "execution_count": 4,
     "metadata": {},
     "output_type": "execute_result"
    }
   ],
   "source": [
    "import utils\n",
    "# to programmatically force a reload of a module:\n",
    "import importlib \n",
    "importlib.reload(utils)"
   ]
  },
  {
   "cell_type": "code",
   "execution_count": 5,
   "metadata": {},
   "outputs": [],
   "source": [
    "utils.dummy_function1()\n",
    "utils.dummy_function2()"
   ]
  },
  {
   "cell_type": "code",
   "execution_count": 6,
   "metadata": {},
   "outputs": [
    {
     "name": "stdout",
     "output_type": "stream",
     "text": [
      "[75, 76, 77]\n",
      "[2, 2, 1]\n"
     ]
    },
    {
     "data": {
      "image/png": "[encoded data removed]",
      "text/plain": [
       "<Figure size 432x288 with 1 Axes>"
      ]
     },
     "metadata": {
      "needs_background": "light"
     },
     "output_type": "display_data"
    },
    {
     "data": {
      "image/png": "[encoded data removed]",
      "text/plain": [
       "<Figure size 432x288 with 1 Axes>"
      ]
     },
     "metadata": {},
     "output_type": "display_data"
    }
   ],
   "source": [
    "header = [\"CarName\", \"ModelYear\", \"MSRP\"]\n",
    "msrp_table = [[\"ford pinto\", 75, 2769],\n",
    "            [\"toyota corolla\", 75, 2711],\n",
    "            [\"ford pinto\", 76, 3025],\n",
    "            [\"toyota corolla\", 77, 2789],\n",
    "            [\"honda accord\", 76, 3999]]\n",
    "\n",
    "modelyear_values, modelyear_counts = utils.get_frequencies(msrp_table, header, \"ModelYear\")\n",
    "print(modelyear_values)\n",
    "print(modelyear_counts)\n",
    "\n",
    "# warm up\n",
    "bar_chart_example(modelyear_values, modelyear_counts)\n",
    "pie_chart_example(modelyear_values, modelyear_counts)"
   ]
  },
  {
   "cell_type": "markdown",
   "metadata": {},
   "source": [
    "## Histograms"
   ]
  },
  {
   "cell_type": "code",
   "execution_count": 7,
   "metadata": {},
   "outputs": [
    {
     "data": {
      "image/png": "[encoded data removed]",
      "text/plain": [
       "<Figure size 432x288 with 1 Axes>"
      ]
     },
     "metadata": {
      "needs_background": "light"
     },
     "output_type": "display_data"
    }
   ],
   "source": [
    "def histogram_example(data, data2):\n",
    "    # data is a 1D list of values\n",
    "    plt.figure() \n",
    "    plt.hist(data, bins=15) # bins=10    \n",
    "    plt.hist(data2, bins=15) # bins=10\n",
    "\n",
    "    plt.show() \n",
    "\n",
    "# let's create a histogram of some normal data to see the \"bell-shaped curve\"\n",
    "import numpy as np \n",
    "mean = 100 # mu\n",
    "stdev = 10 # sigma\n",
    "num_samples = 1000 # n\n",
    "normal_data = np.random.normal(mean, stdev, num_samples)\n",
    "normal_data2 = np.random.normal(mean, stdev / 2, num_samples)\n",
    "histogram_example(normal_data, normal_data2)\n",
    "\n",
    "# task: add another histogram to the same figure\n",
    "# for mean=100, stdev=5\n",
    "# prediction: bell shaped curve going to be narrower or wider?"
   ]
  },
  {
   "cell_type": "markdown",
   "metadata": {},
   "source": [
    "## Box Plots"
   ]
  },
  {
   "cell_type": "code",
   "execution_count": 8,
   "metadata": {},
   "outputs": [
    {
     "data": {
      "image/png": "[encoded data removed]",
      "text/plain": [
       "<Figure size 432x288 with 1 Axes>"
      ]
     },
     "metadata": {
      "needs_background": "light"
     },
     "output_type": "display_data"
    }
   ],
   "source": [
    "def box_plot_example(distributions, labels):\n",
    "    # distributions: a list of 1D lists of data values\n",
    "    plt.figure()\n",
    "    plt.boxplot(distributions)\n",
    "    # boxes correspond to the 1st and 3rd quartiles\n",
    "    # the line in the middle of the box is the 2nd quartile (AKA median)\n",
    "    # the whiskers correspond to +/- 1.5 * IQR\n",
    "    # IQR: interquratile range (3rd quartile - 1st quartile)\n",
    "    # circles outside of the whiskers are outliers\n",
    "\n",
    "    # task: replace the x tick labels with labels identifying the\n",
    "    # boxes e.g. sigma=10 and sigma=5\n",
    "    plt.xticks(list(range(1, len(labels) + 1)), labels)\n",
    "\n",
    "    # annotations\n",
    "    # let's add a label for mu=100 in the center of the figure\n",
    "    # xycoords=\"data\": default, specify the annotation location in the same\n",
    "    # coordinates as your data values\n",
    "    # xycoords=\"axes fraction\": specify the annotation location in\n",
    "    # absolute coordinates for the axes: (0,0) is bottom left\n",
    "    # (1, 1) is upper right)\n",
    "    plt.annotate(\"$\\mu=100$\", xy=(1.5, 100), xycoords=\"data\", \n",
    "        horizontalalignment=\"center\")\n",
    "    plt.annotate(\"$\\mu=100$\", xy=(0.5, 0.5), xycoords=\"axes fraction\", \n",
    "        horizontalalignment=\"center\", color=\"blue\")\n",
    "    plt.show()\n",
    "\n",
    "# let's create a box plot for the same data we created histograms for\n",
    "box_plot_example([normal_data, normal_data2], [\"$\\sigma=10$\", \"$\\sigma=5$\"])"
   ]
  },
  {
   "cell_type": "markdown",
   "metadata": {},
   "source": [
    "## Task\n",
    "Create a box plot to show MSRPs grouped by ModelYear\n",
    "* x-axis: \"categorical\" attribute ModelYear e.g. 75, 76, 77\n",
    "* y-axis: \"continuous\" attribute the distribution of MSRPs\n",
    "* To do this, we should write a general utility function: `group_by(table, header, group_by_col_name)` and returns parallel lists: list of unique group names and a list of the sub tables for each group"
   ]
  },
  {
   "cell_type": "code",
   "execution_count": 9,
   "metadata": {},
   "outputs": [
    {
     "name": "stdout",
     "output_type": "stream",
     "text": [
      "[75, 76, 77]\n",
      "[[['ford pinto', 75, 2769], ['toyota corolla', 75, 2711]], [['ford pinto', 76, 3025], ['honda accord', 76, 3999]], [['toyota corolla', 77, 2789]]]\n",
      "[[2769, 2711], [3025, 3999], [2789]]\n"
     ]
    },
    {
     "data": {
      "image/png": "[encoded data removed]",
      "text/plain": [
       "<Figure size 432x288 with 1 Axes>"
      ]
     },
     "metadata": {
      "needs_background": "light"
     },
     "output_type": "display_data"
    }
   ],
   "source": [
    "importlib.reload(utils)\n",
    "modelyear_names, modelyear_subtables = utils.group_by(msrp_table, header, \"ModelYear\")\n",
    "print(modelyear_names)\n",
    "print(modelyear_subtables)\n",
    "# extract the MSRPs from each subtable\n",
    "msrp_dists = [utils.get_column(subtable, header, \"MSRP\") for subtable in modelyear_subtables]\n",
    "print(msrp_dists)\n",
    "box_plot_example(msrp_dists, modelyear_names)"
   ]
  },
  {
   "cell_type": "markdown",
   "metadata": {},
   "source": [
    "## Discretization\n",
    "Converting a numeric (continuous) attribute to be discrete (categorical)\n",
    "* We will implement equal widths binning (same as `plt.hist()`)\n",
    "* There are N bins \n",
    "* Multiple ways to define the bins \n",
    "* Use N + 1 cutoffs (because `np.histogram()` and `plt.hist()` use N + 1 cutoffs)\n",
    "* All bins are half open (except the last)\n",
    "* The first and last cutoff are the min and max respectively"
   ]
  },
  {
   "cell_type": "code",
   "execution_count": 10,
   "metadata": {},
   "outputs": [
    {
     "name": "stdout",
     "output_type": "stream",
     "text": [
      "[9, 12, 21, 36, 39, 44, 46, 47, 58, 64, 65, 67, 67, 70, 83, 87, 87, 88, 88, 88]\n",
      "[9.0, 24.8, 40.6, 56.4, 72.2, 88]\n",
      "[ 9.  24.8 40.6 56.4 72.2 88. ]\n"
     ]
    },
    {
     "data": {
      "image/png": "[encoded data removed]",
      "text/plain": [
       "<Figure size 432x288 with 1 Axes>"
      ]
     },
     "metadata": {
      "needs_background": "light"
     },
     "output_type": "display_data"
    }
   ],
   "source": [
    "importlib.reload(utils)\n",
    "np.random.seed(0)\n",
    "values = sorted(list(np.random.choice(100, 20))) # 20 values in [0, 100)\n",
    "# sampling with replacement\n",
    "print(values)\n",
    "cutoffs = utils.compute_equal_width_cutoffs(values, 5)\n",
    "print(cutoffs)\n",
    "# how do we know if we are right?\n",
    "# let's use matplotlib to get the cutoffs to check ours against\n",
    "plt_freqs, plt_cutoffs, plt_artists = plt.hist(values, bins=5)\n",
    "print(plt_cutoffs)\n",
    "# use the assert statement in order to \"assert\" that two values or two expressions are the same (or really close...)\n",
    "#assert True == False \n",
    "# when an assert evals to True... program execution continues\n",
    "# when an assert evals to False... program execution stops\n",
    "# order... actual , expected (solution)\n",
    "assert np.allclose(cutoffs, plt_cutoffs)"
   ]
  },
  {
   "cell_type": "markdown",
   "metadata": {},
   "source": [
    "## Task: Finish the Discretization Lab\n",
    "1. Given a list of values and the number of equal-width bins to create (N), write a function to return a list of the N + 1 cutoff points.\n",
    "1. Given a list of values and a list of N + 1 cutoff points, write a function to return the corresponding frequencies of the N bins.\n",
    "    * `[9.0, 24.8) [24.8, 40.6) [40.6, 56.4) [56.4, 72.2) [72.2, 88]`\n",
    "1. Given a list of the N bins and the N frequencies of the bins, write a function to produce a histogram that matches that produced with the same data by plt.hist()\n",
    "    * `plt.bar()` documentation: https://matplotlib.org/3.1.1/api/_as_gen/matplotlib.pyplot.bar.html"
   ]
  },
  {
   "cell_type": "code",
   "execution_count": 15,
   "metadata": {},
   "outputs": [
    {
     "name": "stdout",
     "output_type": "stream",
     "text": [
      "[3, 2, 3, 6, 6]\n",
      "[3. 2. 3. 6. 6.]\n"
     ]
    },
    {
     "data": {
      "image/png": "[encoded data removed]",
      "text/plain": [
       "<Figure size 432x288 with 1 Axes>"
      ]
     },
     "metadata": {
      "needs_background": "light"
     },
     "output_type": "display_data"
    }
   ],
   "source": [
    "# task 2\n",
    "freqs = utils.compute_bin_frequencies(values, cutoffs)\n",
    "print(freqs)\n",
    "print(plt_freqs)\n",
    "assert list(freqs) == list(plt_freqs)\n",
    "\n",
    "# task 3\n",
    "plt.figure()\n",
    "plt.bar(cutoffs[:-1], freqs, width=cutoffs[1] - cutoffs[0], align=\"edge\"); # ; to suppress output"
   ]
  },
  {
   "cell_type": "markdown",
   "metadata": {},
   "source": [
    "## Linear Regression\n",
    "* Suppose we have data, x and y, where x is the indepedent variable and y is the dependent variable\n",
    "* We will cover \"simple\" linear regression (univariate; one independent variable)\n",
    "* y = mx + b \n",
    "* For the least squares approach\n",
    "    * The line has to pass through (mean x, mean y)\n",
    "    * Compute the slope (m), we can solve for b \n",
    "$$m = \\frac{\\sum_{i=1}^{n}(x_i - \\bar{x})(y_i - \\bar{y})}{\\sum_{i=1}^{n}(x_i - \\bar{x})^2}$$\n"
   ]
  },
  {
   "cell_type": "code",
   "execution_count": 11,
   "metadata": {},
   "outputs": [
    {
     "data": {
      "text/plain": [
       "<matplotlib.collections.PathCollection at 0x7fa5b4c7e990>"
      ]
     },
     "execution_count": 11,
     "metadata": {},
     "output_type": "execute_result"
    },
    {
     "data": {
      "image/png": "[encoded data removed]",
      "text/plain": [
       "<Figure size 432x288 with 1 Axes>"
      ]
     },
     "metadata": {
      "needs_background": "light"
     },
     "output_type": "display_data"
    }
   ],
   "source": [
    "np.random.seed(0)\n",
    "# we need data... lets do y = 2x + some noise\n",
    "x = list(range(0, 100))\n",
    "y = [value * 2 + np.random.normal(0, 25) for value in x]\n",
    "plt.scatter(x, y)"
   ]
  },
  {
   "cell_type": "code",
   "execution_count": null,
   "metadata": {},
   "outputs": [],
   "source": []
  }
 ],
 "metadata": {
  "kernelspec": {
   "display_name": "Python 3",
   "language": "python",
   "name": "python3"
  },
  "language_info": {
   "codemirror_mode": {
    "name": "ipython",
    "version": 3
   },
   "file_extension": ".py",
   "mimetype": "text/x-python",
   "name": "python",
   "nbconvert_exporter": "python",
   "pygments_lexer": "ipython3",
   "version": "3.7.4"
  }
 },
 "nbformat": 4,
 "nbformat_minor": 4
}
