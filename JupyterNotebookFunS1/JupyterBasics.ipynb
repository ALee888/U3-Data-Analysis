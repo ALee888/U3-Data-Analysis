{
 "cells": [
  {
   "cell_type": "code",
   "execution_count": 1,
   "metadata": {},
   "outputs": [
    {
     "name": "stdout",
     "output_type": "stream",
     "text": [
      "hello jupyter\n",
      "asldjfalsdjf\n"
     ]
    }
   ],
   "source": [
    "print(\"hello jupyter\")\n",
    "print(\"asldjfalsdjf\")"
   ]
  },
  {
   "cell_type": "code",
   "execution_count": 2,
   "metadata": {},
   "outputs": [
    {
     "name": "stdout",
     "output_type": "stream",
     "text": [
      "hello again\n"
     ]
    }
   ],
   "source": [
    "print(\"hello again\")"
   ]
  },
  {
   "cell_type": "code",
   "execution_count": null,
   "metadata": {},
   "outputs": [],
   "source": []
  },
  {
   "cell_type": "markdown",
   "metadata": {},
   "source": [
    "# This is a Level One Header\n",
    "## This is a Level Two Header \n",
    "\n",
    "This is paragraph text. \n",
    "New line.\n",
    "\n",
    "Hard break is two newlines\n",
    "\n",
    "New line \n",
    "\n",
    "New line \n",
    "\n",
    "Soft break is two spaces at the end of the line.  \n",
    "New line  \n",
    "New line.  \n",
    "\n"
   ]
  },
  {
   "cell_type": "markdown",
   "metadata": {},
   "source": [
    "## Formatting\n",
    "We can *italicize* or _italicize_\n",
    "\n",
    "We can **bold** or __bold__\n",
    "\n",
    "We can ~~strikethrough~~\n",
    "\n",
    "We can `syntax highlighting`\n",
    "\n",
    "```python\n",
    "for i in range(5):\n",
    "    print(i)\n",
    "```\n",
    "\n",
    "We can block quote\n",
    ">This is a block quote.  \n",
    ">Another line "
   ]
  },
  {
   "cell_type": "markdown",
   "metadata": {},
   "source": [
    "## Lists\n",
    "Unordered list:\n",
    "\n",
    "* Item 1\n",
    "* Item 2\n",
    "* Item 3 \n",
    "\n",
    "Ordered list:\n",
    "\n",
    "1. Item A\n",
    "1. Item B\n",
    "1. Item C\n",
    "\n",
    "* There are multiple ways to edit a Jupyter Notebook\n",
    "    * VS Code w/Jupyter extension\n",
    "    * Jupyter Notebook (the program, soon going to be deprecated)\n",
    "    * Jupyter Lab (the program, the preferred approach)\n",
    "    * Google Colab (Google's cloud version of Jupyter Lab)\n",
    "    "
   ]
  },
  {
   "cell_type": "markdown",
   "metadata": {},
   "source": [
    "## Links and Images\n",
    "\n",
    "I highly encourage you all to complete [this markdown tutorial](https://www.markdowntutorial.com/).\n",
    "\n",
    "Images: \n",
    "\n",
    "![](https://thezebra.org/wp-content/uploads/2020/07/Training-Time-Aug2020-GR-with-ball-scaled.jpg)\n",
    "\n",
    "<img src=\"https://thezebra.org/wp-content/uploads/2020/07/Training-Time-Aug2020-GR-with-ball-scaled.jpg\" width=\"200\"/>"
   ]
  },
  {
   "cell_type": "markdown",
   "metadata": {},
   "source": [
    "## Tables\n",
    "Let's make a small table for our MSRP dataset\n",
    "\n",
    "CarName|ModelYear|MSRP\n",
    "-|-|-\n",
    "ford pinto|75|2769\n",
    "toyota corolla|75|2711"
   ]
  },
  {
   "cell_type": "markdown",
   "metadata": {},
   "source": [
    "## Latex (math mode)\n",
    "Inline math mode: $y = mx + b$\n",
    "\n",
    "Block/centered math mode: $$y = mx + b$$\n",
    "\n",
    "Subscripts: $x_i$ $x_{i + 1}$  \n",
    "Superscripts: $x^i$ $x^{i + 1}$\n",
    "\n",
    "Symbols over characters: $\\overline{x + 1}$ $\\widehat{x}$\n",
    "\n",
    "Special symbols: $\\mu \\sigma \\pi \\Sigma \\forall \\Pi$\n",
    "\n",
    "Fractions: $\\frac{1}{x + y + z}$\n",
    "\n",
    "Square roots: $\\sqrt{x + z}$\n",
    "\n",
    "Summations: $\\sum_{i = 1}^{n} x_i$\n",
    "\n",
    "Task: Typeset the formula for population mean and for population standard devation.\n",
    "\n",
    "Mean: $\\mu = \\frac{\\sum x}{n}$\n",
    "\n",
    "Standard deviation: $\\sigma = \\sqrt{\\frac{\\sum(x - \\mu)^2}{n}}$"
   ]
  }
 ],
 "metadata": {
  "kernelspec": {
   "display_name": "Python 3",
   "language": "python",
   "name": "python3"
  },
  "language_info": {
   "codemirror_mode": {
    "name": "ipython",
    "version": 3
   },
   "file_extension": ".py",
   "mimetype": "text/x-python",
   "name": "python",
   "nbconvert_exporter": "python",
   "pygments_lexer": "ipython3",
   "version": "3.8.5"
  }
 },
 "nbformat": 4,
 "nbformat_minor": 4
}
