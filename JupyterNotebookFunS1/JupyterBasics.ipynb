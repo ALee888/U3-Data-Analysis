{
 "metadata": {
  "language_info": {
   "codemirror_mode": {
    "name": "ipython",
    "version": 3
   },
   "file_extension": ".py",
   "mimetype": "text/x-python",
   "name": "python",
   "nbconvert_exporter": "python",
   "pygments_lexer": "ipython3",
   "version": "3.8.5-final"
  },
  "orig_nbformat": 2,
  "kernelspec": {
   "name": "python3",
   "display_name": "Python 3",
   "language": "python"
  }
 },
 "nbformat": 4,
 "nbformat_minor": 2,
 "cells": [
  {
   "source": [
    "print(\"hello jupyter\")\n",
    "print(\"asldjfalsdjf\")"
   ],
   "cell_type": "code",
   "metadata": {},
   "execution_count": 13,
   "outputs": [
    {
     "output_type": "stream",
     "name": "stdout",
     "text": [
      "hello jupyter\nasldjfalsdjf\n"
     ]
    }
   ]
  },
  {
   "cell_type": "code",
   "execution_count": 5,
   "metadata": {},
   "outputs": [
    {
     "output_type": "stream",
     "name": "stdout",
     "text": [
      "hello again\n"
     ]
    }
   ],
   "source": [
    "print(\"hello again\")"
   ]
  },
  {
   "cell_type": "code",
   "execution_count": null,
   "metadata": {},
   "outputs": [],
   "source": []
  },
  {
   "source": [
    "# This is a Level One Header\n",
    "## This is a Level Two Header \n",
    "\n",
    "This is paragraph text. \n",
    "New line.\n",
    "\n",
    "Hard break is two newlines\n",
    "\n",
    "New line \n",
    "\n",
    "New line \n",
    "\n",
    "Soft break is two spaces at the end of the line.  \n",
    "New line  \n",
    "New line.  \n",
    "\n"
   ],
   "cell_type": "markdown",
   "metadata": {}
  },
  {
   "source": [
    "## Formatting\n",
    "We can *italicize* or _italicize_\n",
    "\n",
    "We can **bold** or __bold__\n",
    "\n",
    "We can ~~strikethrough~~\n",
    "\n",
    "We can `syntax highlighting`\n",
    "\n",
    "```python\n",
    "for i in range(5):\n",
    "    print(i)\n",
    "```\n",
    "\n",
    "We can block quote\n",
    ">This is a block quote.  \n",
    ">Another line "
   ],
   "cell_type": "markdown",
   "metadata": {}
  },
  {
   "source": [
    "## Lists\n",
    "Unordered list:\n",
    "\n",
    "* Item 1\n",
    "* Item 2\n",
    "* Item 3 \n",
    "\n",
    "Ordered list:\n",
    "\n",
    "1. Item A\n",
    "1. Item B\n",
    "1. Item C\n",
    "\n",
    "* There are multiple ways to edit a Jupyter Notebook\n",
    "    * VS Code w/Jupyter extension\n",
    "    * Jupyter Notebook (the program, soon going to be deprecated)\n",
    "    * Jupyter Lab (the program, the preferred approach)\n",
    "    * Google Colab (Google's cloud version of Jupyter Lab)\n",
    "    "
   ],
   "cell_type": "markdown",
   "metadata": {}
  },
  {
   "source": [
    "## Links and Images\n",
    "\n",
    "I highly encourage you all to complete [this markdown tutorial](https://www.markdowntutorial.com/).\n",
    "\n"
   ],
   "cell_type": "markdown",
   "metadata": {}
  }
 ]
}