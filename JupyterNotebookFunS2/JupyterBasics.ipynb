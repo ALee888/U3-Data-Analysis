{
 "cells": [
  {
   "cell_type": "code",
   "execution_count": null,
   "metadata": {},
   "outputs": [],
   "source": [
    "print(\"hello jupyter\")"
   ]
  },
  {
   "cell_type": "code",
   "execution_count": 11,
   "metadata": {},
   "outputs": [
    {
     "name": "stdout",
     "output_type": "stream",
     "text": [
      "hello again\n"
     ]
    }
   ],
   "source": [
    "print(\"hello again\")"
   ]
  },
  {
   "cell_type": "code",
   "execution_count": null,
   "metadata": {},
   "outputs": [],
   "source": []
  },
  {
   "cell_type": "markdown",
   "metadata": {},
   "source": [
    "# This is a Level One Header\n",
    "## This is a Level Two Header \n",
    "\n",
    "This is paragraph text. \n",
    "New line. \n",
    "\n",
    "Hard vs soft break\n",
    "\n",
    "Hard break: two newlines to create a newline with vertical space\n",
    "\n",
    "New line\n",
    "\n",
    "New line \n",
    "\n",
    "Soft break: two spaces at the end of the line, then a new line  \n",
    "New line  \n",
    "New line  "
   ]
  },
  {
   "cell_type": "markdown",
   "metadata": {},
   "source": [
    "## Formatting\n",
    "We can *italicize* or _italicize_\n",
    "\n",
    "We can **bold** or __bold__\n",
    "\n",
    "We can ~~strikethrough~~\n",
    "\n",
    "We can `syntax highlight`\n",
    "\n",
    "We can block syntax highlight \n",
    "```python\n",
    "for i in range(5):\n",
    "    print(i)\n",
    "```\n",
    "\n",
    "We can block quote\n",
    ">This is a block quote.  \n",
    ">Another line... etc\n"
   ]
  },
  {
   "cell_type": "markdown",
   "metadata": {},
   "source": [
    "## Lists\n",
    "Unordered list:\n",
    "\n",
    "* Item 1\n",
    "* Item 2\n",
    "* Item 3\n",
    "    * Nested Item 4\n",
    "\n",
    "Ordered list:\n",
    "\n",
    "1. First Item\n",
    "1. Second Item \n",
    "\n",
    "* Ways to edit a Jupyter Notebook\n",
    "    * VS Code w/Jupyter extension \n",
    "    * Jupyter Notebook (the program, soon to be deprecated)\n",
    "    * Jupyter Lab (the program, the preferred approach)\n",
    "    * Google Colab (Google's Jupyter Lab in the cloud)"
   ]
  },
  {
   "cell_type": "markdown",
   "metadata": {},
   "source": [
    "## Links and Images\n",
    "I highly encourage you all to do the [markdown tutorial](https://www.markdowntutorial.com/).\n",
    "\n",
    "Images: \n",
    "\n",
    "![](https://hips.hearstapps.com/hmg-prod.s3.amazonaws.com/images/homemade-bread-horizontal-1547759080.jpg)\n",
    "\n",
    "<img src=\"https://hips.hearstapps.com/hmg-prod.s3.amazonaws.com/images/homemade-bread-horizontal-1547759080.jpg\" width=\"200\"/>"
   ]
  },
  {
   "cell_type": "markdown",
   "metadata": {},
   "source": [
    "## Tables\n",
    "Lets make a short version of our MSRP table.\n",
    "\n",
    "CarName|ModelYear|MSRP\n",
    "-|-|-\n",
    "ford pinto|75|2769\n",
    "toyota corolla|75|2711"
   ]
  },
  {
   "cell_type": "markdown",
   "metadata": {},
   "source": [
    "## Latex (math mode)\n",
    "Inline math mode: $y = mx + b$  \n",
    "Block/centered math mode: $$y = mx + b$$\n",
    "\n",
    "Subscript: $x_i$ $x_{i + 1}$\n",
    "Superscript: $x^i$ $x^{i + 1}$\n",
    "\n",
    "Symbols over characters: $\\overline{x + 1}$ $\\widehat{x}$\n",
    "\n",
    "Special symbols: $\\mu \\sigma \\pi \\Pi \\Sigma \\forall \\cup$\n",
    "\n",
    "Fractions: $\\frac{1}{x + y + z}$\n",
    "\n",
    "Square roots: $\\sqrt{x + y + z}$\n",
    "\n",
    "Summations: $\\sum_{i = 1}^{n} x_i$\n",
    "\n",
    "Task: Typeset the formulas for population mean and standard deviation.\n",
    "\n",
    "Mean: $\\mu = \\frac{\\sum x}{n}$\n",
    "\n",
    "Standard deviation: $\\sigma = \\sqrt{\\frac{\\sum (x - \\mu)^2}{n}}$"
   ]
  },
  {
   "cell_type": "code",
   "execution_count": null,
   "metadata": {},
   "outputs": [],
   "source": []
  }
 ],
 "metadata": {
  "kernelspec": {
   "display_name": "Python 3",
   "language": "python",
   "name": "python3"
  },
  "language_info": {
   "codemirror_mode": {
    "name": "ipython",
    "version": 3
   },
   "file_extension": ".py",
   "mimetype": "text/x-python",
   "name": "python",
   "nbconvert_exporter": "python",
   "pygments_lexer": "ipython3",
   "version": "3.8.5"
  }
 },
 "nbformat": 4,
 "nbformat_minor": 4
}
